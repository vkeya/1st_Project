{
 "cells": [
  {
   "cell_type": "code",
   "execution_count": null,
   "id": "8dea2d9f",
   "metadata": {},
   "outputs": [],
   "source": [
    "fruits = [\"mango\", \"banana\", \"strawberry\"]\n"
   ]
  },
  {
   "cell_type": "code",
   "execution_count": null,
   "id": "b32dce1d",
   "metadata": {},
   "outputs": [],
   "source": [
    "print(fruits)"
   ]
  },
  {
   "cell_type": "code",
   "execution_count": null,
   "id": "c1cafcb6",
   "metadata": {},
   "outputs": [],
   "source": [
    "print(fruits[1])"
   ]
  },
  {
   "cell_type": "code",
   "execution_count": null,
   "id": "a90ccb17",
   "metadata": {},
   "outputs": [],
   "source": [
    "fruits.append(\"orange\")"
   ]
  },
  {
   "cell_type": "code",
   "execution_count": null,
   "id": "23705c7a",
   "metadata": {},
   "outputs": [],
   "source": [
    "print(fruits)"
   ]
  },
  {
   "cell_type": "code",
   "execution_count": null,
   "id": "d05d97df",
   "metadata": {},
   "outputs": [],
   "source": [
    "fruits.remove(\"banana\")"
   ]
  },
  {
   "cell_type": "code",
   "execution_count": null,
   "id": "69520e4a",
   "metadata": {},
   "outputs": [],
   "source": [
    "print(fruits)"
   ]
  },
  {
   "cell_type": "code",
   "execution_count": null,
   "id": "998f54ec",
   "metadata": {},
   "outputs": [],
   "source": [
    "fruits[0] = \"watermelon\""
   ]
  },
  {
   "cell_type": "code",
   "execution_count": null,
   "id": "7fa6ca64",
   "metadata": {},
   "outputs": [],
   "source": [
    "print(fruits)"
   ]
  },
  {
   "cell_type": "code",
   "execution_count": null,
   "id": "e931a92b",
   "metadata": {},
   "outputs": [],
   "source": [
    "print(len(fruits))"
   ]
  },
  {
   "cell_type": "code",
   "execution_count": null,
   "id": "a856d00d",
   "metadata": {},
   "outputs": [],
   "source": [
    "#sets"
   ]
  },
  {
   "cell_type": "code",
   "execution_count": null,
   "id": "aaa05588",
   "metadata": {},
   "outputs": [],
   "source": [
    "fruits = {\"banana\", \"orange\", \"mango\"}"
   ]
  },
  {
   "cell_type": "code",
   "execution_count": null,
   "id": "73e0be4b",
   "metadata": {},
   "outputs": [],
   "source": [
    "more_fruits = {\"carrot\", \"tomatoe\", \"onion\"}"
   ]
  },
  {
   "cell_type": "code",
   "execution_count": null,
   "id": "d7b451de",
   "metadata": {},
   "outputs": [],
   "source": [
    "fruits.update(more_fruits)"
   ]
  },
  {
   "cell_type": "code",
   "execution_count": null,
   "id": "ff1ad84d",
   "metadata": {},
   "outputs": [],
   "source": [
    "print(fruits)"
   ]
  },
  {
   "cell_type": "code",
   "execution_count": 1,
   "id": "f6df7f61",
   "metadata": {},
   "outputs": [],
   "source": [
    "\n",
    "#Python Fundamentals"
   ]
  },
  {
   "cell_type": "code",
   "execution_count": 2,
   "id": "355e892b",
   "metadata": {},
   "outputs": [
    {
     "name": "stdout",
     "output_type": "stream",
     "text": [
      "Hello World!!!!!!!\n"
     ]
    }
   ],
   "source": [
    "print(\"Hello World!!!!!!!\")"
   ]
  },
  {
   "cell_type": "code",
   "execution_count": 3,
   "id": "0ab5107d",
   "metadata": {},
   "outputs": [
    {
     "name": "stdout",
     "output_type": "stream",
     "text": [
      "i am iron man\n"
     ]
    }
   ],
   "source": [
    "print('i am iron man')"
   ]
  },
  {
   "cell_type": "code",
   "execution_count": null,
   "id": "56518268",
   "metadata": {},
   "outputs": [],
   "source": [
    "#strings basics"
   ]
  },
  {
   "cell_type": "code",
   "execution_count": 4,
   "id": "39c05ae0",
   "metadata": {},
   "outputs": [
    {
     "name": "stdout",
     "output_type": "stream",
     "text": [
      "\n",
      "I am Iron man\n",
      "No, I am Tony Stark\n",
      "No, I am Poppy\n",
      "\n"
     ]
    }
   ],
   "source": [
    "print('''\n",
    "I am Iron man\n",
    "No, I am Tony Stark\n",
    "No, I am Poppy\n",
    "''')"
   ]
  },
  {
   "cell_type": "code",
   "execution_count": 22,
   "id": "5d7ecbd8",
   "metadata": {},
   "outputs": [
    {
     "name": "stdout",
     "output_type": "stream",
     "text": [
      "I am Iron Man\n",
      "No, I am Tony Stark\n",
      "No, I am Poppy\n"
     ]
    }
   ],
   "source": [
    "print(\"I am Iron Man\\n\"\"No, I am Tony Stark\\n\"\"No, I am Poppy\")"
   ]
  },
  {
   "cell_type": "code",
   "execution_count": 40,
   "id": "147a9caf",
   "metadata": {},
   "outputs": [
    {
     "name": "stdout",
     "output_type": "stream",
     "text": [
      "what is your name? Victor\n",
      "Hello, Victor, Welcome to out coffee shop\n",
      "Victor, What would you like today? Here is what we have today\n",
      "Black Coffee, Latte, Cappucino, Chocolate\n",
      "Latte\n",
      "Thank you Victor your Latte will be ready in a moment\n",
      "How many Latte would you want?2\n",
      "Okay, the bill is 1000\n"
     ]
    }
   ],
   "source": [
    "name = input(\"what is your name? \")\n",
    "print(\"Hello, \" + name + \", Welcome to out coffee shop\" )\n",
    "menu = \"Black Coffee, Latte, Cappucino, Chocolate\"\n",
    "print(name + \", What would you like today? Here is what we have today\\n\" + menu )\n",
    "order = input()\n",
    "print(\"Thank you \" + name + \" your \" + order + \" will be ready in a moment\")\n",
    "price = 500\n",
    "number = input(\"How many \" + order + \" would you want?\")\n",
    "total = price * int(number)\n",
    "print(\"Okay, the bill is \" + f'{total}')\n",
    "\n"
   ]
  },
  {
   "cell_type": "code",
   "execution_count": 24,
   "id": "25399cd5",
   "metadata": {},
   "outputs": [
    {
     "name": "stdout",
     "output_type": "stream",
     "text": [
      "Welcome + f'{name}\n"
     ]
    }
   ],
   "source": []
  },
  {
   "cell_type": "code",
   "execution_count": null,
   "id": "24626647",
   "metadata": {},
   "outputs": [],
   "source": [
    "#if statements"
   ]
  },
  {
   "cell_type": "code",
   "execution_count": 48,
   "id": "9477b6b1",
   "metadata": {},
   "outputs": [
    {
     "name": "stdout",
     "output_type": "stream",
     "text": [
      "What is your name? Miriam\n",
      "You are not welcome sir!\n"
     ]
    }
   ],
   "source": [
    "name = input(\"What is your name? \")\n",
    "\n",
    "if name == \"Victor\":\n",
    "    print(\"You are welcome sir!\")\n",
    "else:\n",
    "    print(\"You are not welcome sir!\") "
   ]
  },
  {
   "cell_type": "code",
   "execution_count": 55,
   "id": "f3aa602c",
   "metadata": {},
   "outputs": [
    {
     "name": "stdout",
     "output_type": "stream",
     "text": [
      "What is your name?\n",
      "Miriam\n",
      "You are welcome here!!\n"
     ]
    }
   ],
   "source": [
    "name = input(\"What is your name?\\n\") \n",
    "if name == \"Victor\":\n",
    "    status = input(\"Are you evil?\\n\")\n",
    "    if status == \"Yes\":\n",
    "        print(\"You are not welcome here!!\")\n",
    "    else:\n",
    "        print(\"You are welcome sir!!\")\n",
    "else:\n",
    "    print(\"You are welcome here!!\")"
   ]
  },
  {
   "cell_type": "code",
   "execution_count": null,
   "id": "29b5063c",
   "metadata": {},
   "outputs": [],
   "source": []
  },
  {
   "cell_type": "code",
   "execution_count": null,
   "id": "b0d1ee62",
   "metadata": {},
   "outputs": [],
   "source": []
  },
  {
   "cell_type": "code",
   "execution_count": null,
   "id": "1ca05772",
   "metadata": {},
   "outputs": [],
   "source": []
  },
  {
   "cell_type": "code",
   "execution_count": null,
   "id": "99c263d8",
   "metadata": {},
   "outputs": [],
   "source": [
    "\n"
   ]
  }
 ],
 "metadata": {
  "kernelspec": {
   "display_name": "Python 3 (ipykernel)",
   "language": "python",
   "name": "python3"
  },
  "language_info": {
   "codemirror_mode": {
    "name": "ipython",
    "version": 3
   },
   "file_extension": ".py",
   "mimetype": "text/x-python",
   "name": "python",
   "nbconvert_exporter": "python",
   "pygments_lexer": "ipython3",
   "version": "3.11.5"
  }
 },
 "nbformat": 4,
 "nbformat_minor": 5
}
