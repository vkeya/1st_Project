{
 "cells": [
  {
   "cell_type": "code",
   "execution_count": null,
   "id": "fe8617ec",
   "metadata": {},
   "outputs": [],
   "source": [
    "#Program about a coffee shop"
   ]
  },
  {
   "cell_type": "code",
   "execution_count": 2,
   "id": "62d085a9",
   "metadata": {},
   "outputs": [
    {
     "name": "stdout",
     "output_type": "stream",
     "text": [
      "What is your name?\n",
      "Victor\n"
     ]
    }
   ],
   "source": []
  },
  {
   "cell_type": "code",
   "execution_count": 5,
   "id": "906cc88d",
   "metadata": {},
   "outputs": [],
   "source": []
  },
  {
   "cell_type": "code",
   "execution_count": 11,
   "id": "dcaee74c",
   "metadata": {},
   "outputs": [
    {
     "name": "stdout",
     "output_type": "stream",
     "text": [
      "Welcome Victor here is the menu.\n",
      "White Coffee, Black Coffee, Capuccino, Espresso, Latte, Chocolate !\n"
     ]
    }
   ],
   "source": []
  },
  {
   "cell_type": "code",
   "execution_count": 16,
   "id": "0df1dc9a",
   "metadata": {},
   "outputs": [
    {
     "name": "stdout",
     "output_type": "stream",
     "text": [
      "What would you want today?\n",
      "White Coffee\n"
     ]
    }
   ],
   "source": [
    "#order = input(\"What would you want today?\\n\")"
   ]
  },
  {
   "cell_type": "code",
   "execution_count": 17,
   "id": "d2c128da",
   "metadata": {},
   "outputs": [
    {
     "name": "stdout",
     "output_type": "stream",
     "text": [
      "How many White Coffee would you want?\n",
      "2\n"
     ]
    }
   ],
   "source": []
  },
  {
   "cell_type": "code",
   "execution_count": 32,
   "id": "9c7c5e46",
   "metadata": {},
   "outputs": [
    {
     "name": "stdout",
     "output_type": "stream",
     "text": [
      "What is your name?\n",
      "Kylene\n",
      "Welcome Kylene here is the menu.\n",
      "White Coffee, Black Coffee, Capuccino, Espresso, Latte, Chocolate !\n",
      "What would you want today?\n",
      "chicken\n",
      "How many chicken would you want?\n",
      "2\n",
      "Today unfortunately we don't have this order!\n",
      "Thank you for being a loyal customer\n",
      "Good day\n"
     ]
    }
   ],
   "source": [
    "name = input(\"What is your name?\\n\")\n",
    "\n",
    "menu = \"White Coffee, Black Coffee, Capuccino, Espresso, Latte, Chocolate\"\n",
    "\n",
    "print(\"Welcome \" + name + \" here is the menu.\\n\" + menu + \" !\")\n",
    "\n",
    "order = input(\"What would you want today?\\n\")\n",
    "\n",
    "amount = input(\"How many \" + order + \" would you want?\\n\" )\n",
    "\n",
    "if order == \"White Coffee\":\n",
    "    price = int(250) * int(amount)\n",
    "    print(\"The order amount is \" + f'{price}')\n",
    "\n",
    "elif order == \"Black Coffee\":\n",
    "    price = int(200) * int(amount)\n",
    "    print(\"The order amount is \" + f'{price}')\n",
    "    \n",
    "elif order == \"Capuccino\":\n",
    "    price = int(450) * int(amount)\n",
    "    print(\"The order amount is \" + f'{price}')\n",
    "    \n",
    "elif order == \"Espresso\":\n",
    "    price = int(150) * int(amount)\n",
    "    print(\"The order amount is \" + f'{price}')\n",
    "    \n",
    "elif order == \"Latte\":\n",
    "    price = int(400) * int(amount)\n",
    "    print(\"The order amount is \" + f'{price}')\n",
    "    \n",
    "elif order == \"Chocolate\":\n",
    "    price = int(300) * int(amount)\n",
    "    print(\"The order amount is \" + f'{price}')\n",
    "    \n",
    "else:\n",
    "    print(\"Today unfortunately we don't have this order!\")\n",
    "                                                        \n",
    "\n",
    "print(\"Thank you for being a loyal customer\\nGood day\")"
   ]
  },
  {
   "cell_type": "code",
   "execution_count": 26,
   "id": "5e282e8d",
   "metadata": {},
   "outputs": [
    {
     "ename": "SyntaxError",
     "evalue": "invalid syntax (1619555797.py, line 1)",
     "output_type": "error",
     "traceback": [
      "\u001b[1;36m  Cell \u001b[1;32mIn[26], line 1\u001b[1;36m\u001b[0m\n\u001b[1;33m    elif order == \"Black Coffee\":\u001b[0m\n\u001b[1;37m    ^\u001b[0m\n\u001b[1;31mSyntaxError\u001b[0m\u001b[1;31m:\u001b[0m invalid syntax\n"
     ]
    }
   ],
   "source": []
  },
  {
   "cell_type": "code",
   "execution_count": null,
   "id": "9cdf7dc3",
   "metadata": {},
   "outputs": [],
   "source": []
  },
  {
   "cell_type": "code",
   "execution_count": null,
   "id": "7890d453",
   "metadata": {},
   "outputs": [],
   "source": []
  },
  {
   "cell_type": "code",
   "execution_count": null,
   "id": "b28b2025",
   "metadata": {},
   "outputs": [],
   "source": []
  },
  {
   "cell_type": "code",
   "execution_count": null,
   "id": "b76145b3",
   "metadata": {},
   "outputs": [],
   "source": []
  },
  {
   "cell_type": "code",
   "execution_count": null,
   "id": "3552e865",
   "metadata": {},
   "outputs": [],
   "source": []
  },
  {
   "cell_type": "code",
   "execution_count": null,
   "id": "ea3d4187",
   "metadata": {},
   "outputs": [],
   "source": []
  },
  {
   "cell_type": "code",
   "execution_count": null,
   "id": "894f03c1",
   "metadata": {},
   "outputs": [],
   "source": []
  },
  {
   "cell_type": "code",
   "execution_count": null,
   "id": "0e14cf4e",
   "metadata": {},
   "outputs": [],
   "source": []
  },
  {
   "cell_type": "code",
   "execution_count": null,
   "id": "5e882c94",
   "metadata": {},
   "outputs": [],
   "source": []
  },
  {
   "cell_type": "code",
   "execution_count": null,
   "id": "f7f85810",
   "metadata": {},
   "outputs": [],
   "source": []
  }
 ],
 "metadata": {
  "kernelspec": {
   "display_name": "Python 3 (ipykernel)",
   "language": "python",
   "name": "python3"
  },
  "language_info": {
   "codemirror_mode": {
    "name": "ipython",
    "version": 3
   },
   "file_extension": ".py",
   "mimetype": "text/x-python",
   "name": "python",
   "nbconvert_exporter": "python",
   "pygments_lexer": "ipython3",
   "version": "3.11.5"
  }
 },
 "nbformat": 4,
 "nbformat_minor": 5
}
