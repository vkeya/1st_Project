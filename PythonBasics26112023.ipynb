{
 "cells": [
  {
   "cell_type": "code",
   "execution_count": null,
   "id": "74055718",
   "metadata": {},
   "outputs": [],
   "source": [
    "#Program about a coffee shop"
   ]
  },
  {
   "cell_type": "code",
   "execution_count": 2,
   "id": "09baf86c",
   "metadata": {},
   "outputs": [
    {
     "name": "stdout",
     "output_type": "stream",
     "text": [
      "What is your name?\n",
      "Victor\n"
     ]
    }
   ],
   "source": []
  },
  {
   "cell_type": "code",
   "execution_count": 5,
   "id": "fb4d3060",
   "metadata": {},
   "outputs": [],
   "source": []
  },
  {
   "cell_type": "code",
   "execution_count": 11,
   "id": "157fd809",
   "metadata": {},
   "outputs": [
    {
     "name": "stdout",
     "output_type": "stream",
     "text": [
      "Welcome Victor here is the menu.\n",
      "White Coffee, Black Coffee, Capuccino, Espresso, Latte, Chocolate !\n"
     ]
    }
   ],
   "source": []
  },
  {
   "cell_type": "code",
   "execution_count": 16,
   "id": "509554c3",
   "metadata": {},
   "outputs": [
    {
     "name": "stdout",
     "output_type": "stream",
     "text": [
      "What would you want today?\n",
      "White Coffee\n"
     ]
    }
   ],
   "source": [
    "#order = input(\"What would you want today?\\n\")"
   ]
  },
  {
   "cell_type": "code",
   "execution_count": 17,
   "id": "1f84e2ce",
   "metadata": {},
   "outputs": [
    {
     "name": "stdout",
     "output_type": "stream",
     "text": [
      "How many White Coffee would you want?\n",
      "2\n"
     ]
    }
   ],
   "source": []
  },
  {
   "cell_type": "code",
   "execution_count": 37,
   "id": "8cee4322",
   "metadata": {},
   "outputs": [
    {
     "name": "stdout",
     "output_type": "stream",
     "text": [
      "What is your name?\n",
      "Victor\n",
      "Welcome Victor here is the menu.\n",
      "White Coffee, Black Coffee, Capuccino, Espresso, Latte, Chocolate !\n",
      "What would you want today?\n",
      "Espresso\n",
      "How many Espresso would you want?\n",
      "6\n",
      "The order amount is 900\n",
      "Thank you for being a loyal customer\n",
      "Good day\n"
     ]
    }
   ],
   "source": [
    "name = input(\"What is your name?\\n\")\n",
    "\n",
    "menu = \"White Coffee, Black Coffee, Capuccino, Espresso, Latte, Chocolate\"\n",
    "\n",
    "print(\"Welcome \" + name + \" here is the menu.\\n\" + menu + \" !\")\n",
    "\n",
    "order = input(\"What would you want today?\\n\")\n",
    "\n",
    "amount = input(\"How many \" + order + \" would you want?\\n\" )\n",
    "\n",
    "if order == \"White Coffee\":\n",
    "    price = int(250) * int(amount)\n",
    "    print(\"The order amount is \" + f'{price}')\n",
    "\n",
    "elif order == \"Black Coffee\":\n",
    "    price = int(200) * int(amount)\n",
    "    print(\"The order amount is \" + f'{price}')\n",
    "    \n",
    "elif order == \"Capuccino\":\n",
    "    price = int(450) * int(amount)\n",
    "    print(\"The order amount is \" + f'{price}')\n",
    "    \n",
    "elif order == \"Espresso\":\n",
    "    price = int(150) * int(amount)\n",
    "    print(\"The order amount is \" + f'{price}')\n",
    "    \n",
    "elif order == \"Latte\":\n",
    "    price = int(400) * int(amount)\n",
    "    print(\"The order amount is \" + f'{price}')\n",
    "    \n",
    "elif order == \"Chocolate\":\n",
    "    price = int(300) * int(amount)\n",
    "    print(\"The order amount is \" + f'{price}')\n",
    "    \n",
    "else:\n",
    "    print(\"Today unfortunately we don't have this order!\")                                                        \n",
    "\n",
    "print(\"Thank you for being a loyal customer\\nGood day\")"
   ]
  },
  {
   "cell_type": "code",
   "execution_count": null,
   "id": "16be58ec",
   "metadata": {},
   "outputs": [],
   "source": []
  },
  {
   "cell_type": "code",
   "execution_count": null,
   "id": "3af8ac3d",
   "metadata": {},
   "outputs": [],
   "source": []
  },
  {
   "cell_type": "code",
   "execution_count": null,
   "id": "be394a34",
   "metadata": {},
   "outputs": [],
   "source": []
  },
  {
   "cell_type": "code",
   "execution_count": null,
   "id": "eb760a6c",
   "metadata": {},
   "outputs": [],
   "source": []
  },
  {
   "cell_type": "code",
   "execution_count": null,
   "id": "4e5a4a84",
   "metadata": {},
   "outputs": [],
   "source": []
  },
  {
   "cell_type": "code",
   "execution_count": null,
   "id": "f146f5e6",
   "metadata": {},
   "outputs": [],
   "source": []
  },
  {
   "cell_type": "code",
   "execution_count": null,
   "id": "63b82374",
   "metadata": {},
   "outputs": [],
   "source": []
  },
  {
   "cell_type": "code",
   "execution_count": null,
   "id": "a54da5f7",
   "metadata": {},
   "outputs": [],
   "source": []
  },
  {
   "cell_type": "code",
   "execution_count": null,
   "id": "a096728d",
   "metadata": {},
   "outputs": [],
   "source": []
  },
  {
   "cell_type": "code",
   "execution_count": null,
   "id": "13e0d762",
   "metadata": {},
   "outputs": [],
   "source": []
  },
  {
   "cell_type": "code",
   "execution_count": null,
   "id": "58b10c2c",
   "metadata": {},
   "outputs": [],
   "source": []
  }
 ],
 "metadata": {
  "kernelspec": {
   "display_name": "Python 3 (ipykernel)",
   "language": "python",
   "name": "python3"
  },
  "language_info": {
   "codemirror_mode": {
    "name": "ipython",
    "version": 3
   },
   "file_extension": ".py",
   "mimetype": "text/x-python",
   "name": "python",
   "nbconvert_exporter": "python",
   "pygments_lexer": "ipython3",
   "version": "3.11.5"
  }
 },
 "nbformat": 4,
 "nbformat_minor": 5
}
