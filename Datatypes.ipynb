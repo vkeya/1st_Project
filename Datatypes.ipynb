{
 "cells": [
  {
   "cell_type": "code",
   "execution_count": 1,
   "id": "d1cc37e7",
   "metadata": {},
   "outputs": [
    {
     "data": {
      "text/plain": [
       "int"
      ]
     },
     "execution_count": 1,
     "metadata": {},
     "output_type": "execute_result"
    }
   ],
   "source": [
    "type(4)"
   ]
  },
  {
   "cell_type": "code",
   "execution_count": 2,
   "id": "ef2ae7bb",
   "metadata": {},
   "outputs": [
    {
     "data": {
      "text/plain": [
       "int"
      ]
     },
     "execution_count": 2,
     "metadata": {},
     "output_type": "execute_result"
    }
   ],
   "source": [
    "type(-12 + 13)"
   ]
  },
  {
   "cell_type": "code",
   "execution_count": 3,
   "id": "62ab1801",
   "metadata": {},
   "outputs": [
    {
     "data": {
      "text/plain": [
       "float"
      ]
     },
     "execution_count": 3,
     "metadata": {},
     "output_type": "execute_result"
    }
   ],
   "source": [
    "type(12.4)"
   ]
  },
  {
   "cell_type": "code",
   "execution_count": 4,
   "id": "4990c30e",
   "metadata": {},
   "outputs": [
    {
     "data": {
      "text/plain": [
       "int"
      ]
     },
     "execution_count": 4,
     "metadata": {},
     "output_type": "execute_result"
    }
   ],
   "source": [
    "type(0)"
   ]
  },
  {
   "cell_type": "code",
   "execution_count": 5,
   "id": "dbecab57",
   "metadata": {},
   "outputs": [
    {
     "ename": "NameError",
     "evalue": "name 'true' is not defined",
     "output_type": "error",
     "traceback": [
      "\u001b[1;31m---------------------------------------------------------------------------\u001b[0m",
      "\u001b[1;31mNameError\u001b[0m                                 Traceback (most recent call last)",
      "Cell \u001b[1;32mIn[5], line 1\u001b[0m\n\u001b[1;32m----> 1\u001b[0m true\n",
      "\u001b[1;31mNameError\u001b[0m: name 'true' is not defined"
     ]
    }
   ],
   "source": [
    "true"
   ]
  },
  {
   "cell_type": "code",
   "execution_count": 8,
   "id": "503dcce7",
   "metadata": {},
   "outputs": [
    {
     "ename": "SyntaxError",
     "evalue": "invalid syntax (1364271588.py, line 1)",
     "output_type": "error",
     "traceback": [
      "\u001b[1;36m  Cell \u001b[1;32mIn[8], line 1\u001b[1;36m\u001b[0m\n\u001b[1;33m    not\u001b[0m\n\u001b[1;37m       ^\u001b[0m\n\u001b[1;31mSyntaxError\u001b[0m\u001b[1;31m:\u001b[0m invalid syntax\n"
     ]
    }
   ],
   "source": [
    "not"
   ]
  },
  {
   "cell_type": "code",
   "execution_count": 10,
   "id": "bf693422",
   "metadata": {},
   "outputs": [
    {
     "data": {
      "text/plain": [
       "complex"
      ]
     },
     "execution_count": 10,
     "metadata": {},
     "output_type": "execute_result"
    }
   ],
   "source": [
    "type(12 + 3j)"
   ]
  },
  {
   "cell_type": "code",
   "execution_count": 11,
   "id": "c3b17ff7",
   "metadata": {},
   "outputs": [
    {
     "data": {
      "text/plain": [
       "bool"
      ]
     },
     "execution_count": 11,
     "metadata": {},
     "output_type": "execute_result"
    }
   ],
   "source": [
    "type(True)"
   ]
  },
  {
   "cell_type": "code",
   "execution_count": 13,
   "id": "50f1c2e0",
   "metadata": {},
   "outputs": [
    {
     "data": {
      "text/plain": [
       "bool"
      ]
     },
     "execution_count": 13,
     "metadata": {},
     "output_type": "execute_result"
    }
   ],
   "source": [
    "type(1 == 5)"
   ]
  },
  {
   "cell_type": "code",
   "execution_count": 14,
   "id": "9866b430",
   "metadata": {},
   "outputs": [],
   "source": [
    "#Lists"
   ]
  },
  {
   "cell_type": "code",
   "execution_count": 15,
   "id": "b0039ad7",
   "metadata": {},
   "outputs": [
    {
     "data": {
      "text/plain": [
       "['Victor', 'Miriam', 'Kyla', 'Kylene', 'Kyliana', 'Letisha']"
      ]
     },
     "execution_count": 15,
     "metadata": {},
     "output_type": "execute_result"
    }
   ],
   "source": [
    "['Victor', 'Miriam', 'Kyla', 'Kylene', 'Kyliana', 'Letisha']"
   ]
  },
  {
   "cell_type": "code",
   "execution_count": 16,
   "id": "09cb5c60",
   "metadata": {},
   "outputs": [
    {
     "name": "stdout",
     "output_type": "stream",
     "text": [
      "['Victor', 'Miriam', 'Kyla', 'Kylene', 'Kyliana', 'Letisha']\n"
     ]
    }
   ],
   "source": [
    "names = ['Victor', 'Miriam', 'Kyla', 'Kylene', 'Kyliana', 'Letisha']\n",
    "print(names)"
   ]
  },
  {
   "cell_type": "code",
   "execution_count": 20,
   "id": "68a9df0f",
   "metadata": {},
   "outputs": [
    {
     "name": "stdout",
     "output_type": "stream",
     "text": [
      "['Victor', 'Miriam', 'Kyla', 'Kylene', 'Kyliana', 'Letisha', 'Aseyo']\n"
     ]
    }
   ],
   "source": [
    "names.append('Aseyo')\n",
    "print(names)"
   ]
  },
  {
   "cell_type": "code",
   "execution_count": 23,
   "id": "04c758cf",
   "metadata": {},
   "outputs": [
    {
     "name": "stdout",
     "output_type": "stream",
     "text": [
      "['Victor', 'Miriam', 'Kyla', 'Kylene', 'Kyliana', 'Aseyo']\n"
     ]
    }
   ],
   "source": [
    "names.remove('Letisha')\n",
    "print(names)"
   ]
  },
  {
   "cell_type": "code",
   "execution_count": 24,
   "id": "ea667be2",
   "metadata": {},
   "outputs": [
    {
     "data": {
      "text/plain": [
       "'Kyla'"
      ]
     },
     "execution_count": 24,
     "metadata": {},
     "output_type": "execute_result"
    }
   ],
   "source": [
    "names[2]"
   ]
  },
  {
   "cell_type": "code",
   "execution_count": 25,
   "id": "7ad8ee8b",
   "metadata": {},
   "outputs": [],
   "source": [
    "#Nested_Lists"
   ]
  },
  {
   "cell_type": "code",
   "execution_count": 26,
   "id": "aa87dcab",
   "metadata": {},
   "outputs": [
    {
     "data": {
      "text/plain": [
       "'Miriam'"
      ]
     },
     "execution_count": 26,
     "metadata": {},
     "output_type": "execute_result"
    }
   ],
   "source": [
    "nested_lists = ['Victor', 'Miriam', ['Kyla', 'Kylene', 'Kyliana'], 'Letisha']\n",
    "nested_lists[1]"
   ]
  },
  {
   "cell_type": "code",
   "execution_count": 29,
   "id": "25366542",
   "metadata": {},
   "outputs": [
    {
     "data": {
      "text/plain": [
       "'Letisha'"
      ]
     },
     "execution_count": 29,
     "metadata": {},
     "output_type": "execute_result"
    }
   ],
   "source": [
    "nested_lists[3]"
   ]
  },
  {
   "cell_type": "code",
   "execution_count": 30,
   "id": "cdbded06",
   "metadata": {},
   "outputs": [],
   "source": [
    "#Tuple"
   ]
  },
  {
   "cell_type": "code",
   "execution_count": 31,
   "id": "59656334",
   "metadata": {},
   "outputs": [],
   "source": [
    "tuple = (2,4,6,8,10,12)"
   ]
  },
  {
   "cell_type": "code",
   "execution_count": 32,
   "id": "2a3241fa",
   "metadata": {},
   "outputs": [
    {
     "data": {
      "text/plain": [
       "tuple"
      ]
     },
     "execution_count": 32,
     "metadata": {},
     "output_type": "execute_result"
    }
   ],
   "source": [
    "type(tuple)"
   ]
  },
  {
   "cell_type": "code",
   "execution_count": 33,
   "id": "8ce91021",
   "metadata": {},
   "outputs": [
    {
     "data": {
      "text/plain": [
       "6"
      ]
     },
     "execution_count": 33,
     "metadata": {},
     "output_type": "execute_result"
    }
   ],
   "source": [
    "tuple[2]"
   ]
  },
  {
   "cell_type": "code",
   "execution_count": 34,
   "id": "78a7c44e",
   "metadata": {},
   "outputs": [
    {
     "ename": "AttributeError",
     "evalue": "'tuple' object has no attribute 'remove'",
     "output_type": "error",
     "traceback": [
      "\u001b[1;31m---------------------------------------------------------------------------\u001b[0m",
      "\u001b[1;31mAttributeError\u001b[0m                            Traceback (most recent call last)",
      "Cell \u001b[1;32mIn[34], line 1\u001b[0m\n\u001b[1;32m----> 1\u001b[0m \u001b[38;5;28mtuple\u001b[39m\u001b[38;5;241m.\u001b[39mremove(\u001b[38;5;241m3\u001b[39m)\n",
      "\u001b[1;31mAttributeError\u001b[0m: 'tuple' object has no attribute 'remove'"
     ]
    }
   ],
   "source": [
    "tuple.remove(3)"
   ]
  },
  {
   "cell_type": "code",
   "execution_count": null,
   "id": "a064cf3a",
   "metadata": {},
   "outputs": [],
   "source": [
    "#Sets"
   ]
  },
  {
   "cell_type": "code",
   "execution_count": 35,
   "id": "e50f5054",
   "metadata": {},
   "outputs": [],
   "source": [
    "numbers = {1,3,5,7,8,9,12,14,15}"
   ]
  },
  {
   "cell_type": "code",
   "execution_count": 36,
   "id": "1ec6f1e3",
   "metadata": {},
   "outputs": [
    {
     "data": {
      "text/plain": [
       "set"
      ]
     },
     "execution_count": 36,
     "metadata": {},
     "output_type": "execute_result"
    }
   ],
   "source": [
    "type(numbers)"
   ]
  },
  {
   "cell_type": "code",
   "execution_count": 45,
   "id": "0f326860",
   "metadata": {},
   "outputs": [],
   "source": [
    "numbers_1 = {2,4,5,6,7,8,12,13,14}\n"
   ]
  },
  {
   "cell_type": "code",
   "execution_count": 39,
   "id": "c25ea0eb",
   "metadata": {},
   "outputs": [
    {
     "data": {
      "text/plain": [
       "{1, 3, 5, 7, 8, 9, 12, 14, 15}"
      ]
     },
     "execution_count": 39,
     "metadata": {},
     "output_type": "execute_result"
    }
   ],
   "source": [
    "numbers"
   ]
  },
  {
   "cell_type": "code",
   "execution_count": 46,
   "id": "d8bb1005",
   "metadata": {},
   "outputs": [
    {
     "data": {
      "text/plain": [
       "set"
      ]
     },
     "execution_count": 46,
     "metadata": {},
     "output_type": "execute_result"
    }
   ],
   "source": [
    "type(numbers_1)"
   ]
  },
  {
   "cell_type": "code",
   "execution_count": 48,
   "id": "3002ebf1",
   "metadata": {},
   "outputs": [
    {
     "name": "stdout",
     "output_type": "stream",
     "text": [
      "{5, 7, 8, 12, 14}\n"
     ]
    }
   ],
   "source": [
    "print(numbers & numbers_1)\n",
    "\n"
   ]
  },
  {
   "cell_type": "code",
   "execution_count": 49,
   "id": "7ff201ea",
   "metadata": {},
   "outputs": [
    {
     "ename": "TypeError",
     "evalue": "'set' object is not subscriptable",
     "output_type": "error",
     "traceback": [
      "\u001b[1;31m---------------------------------------------------------------------------\u001b[0m",
      "\u001b[1;31mTypeError\u001b[0m                                 Traceback (most recent call last)",
      "Cell \u001b[1;32mIn[49], line 1\u001b[0m\n\u001b[1;32m----> 1\u001b[0m numbers[\u001b[38;5;241m2\u001b[39m]\n",
      "\u001b[1;31mTypeError\u001b[0m: 'set' object is not subscriptable"
     ]
    }
   ],
   "source": [
    "numbers[2]"
   ]
  },
  {
   "cell_type": "code",
   "execution_count": 50,
   "id": "041d9b31",
   "metadata": {},
   "outputs": [
    {
     "ename": "KeyError",
     "evalue": "2",
     "output_type": "error",
     "traceback": [
      "\u001b[1;31m---------------------------------------------------------------------------\u001b[0m",
      "\u001b[1;31mKeyError\u001b[0m                                  Traceback (most recent call last)",
      "Cell \u001b[1;32mIn[50], line 1\u001b[0m\n\u001b[1;32m----> 1\u001b[0m numbers\u001b[38;5;241m.\u001b[39mremove(\u001b[38;5;241m2\u001b[39m)\n",
      "\u001b[1;31mKeyError\u001b[0m: 2"
     ]
    }
   ],
   "source": [
    "numbers.remove(2)"
   ]
  },
  {
   "cell_type": "code",
   "execution_count": 51,
   "id": "563ee45e",
   "metadata": {},
   "outputs": [],
   "source": [
    "#Dictionaries"
   ]
  },
  {
   "cell_type": "code",
   "execution_count": 52,
   "id": "11ec171c",
   "metadata": {},
   "outputs": [],
   "source": [
    "dict = {'name' : 'Victor Keya', 'work' : 'Engineer', 'skills' : ['Python', 'Data', 'Troubleshooting']}\n"
   ]
  },
  {
   "cell_type": "code",
   "execution_count": 53,
   "id": "325aaaab",
   "metadata": {},
   "outputs": [
    {
     "name": "stdout",
     "output_type": "stream",
     "text": [
      "{'name': 'Victor Keya', 'work': 'Engineer', 'skills': ['Python', 'Data', 'Troubleshooting']}\n"
     ]
    }
   ],
   "source": [
    "print(dict)"
   ]
  },
  {
   "cell_type": "code",
   "execution_count": 60,
   "id": "0740edb7",
   "metadata": {},
   "outputs": [],
   "source": [
    "dict['skills'] = ['Python', 'Data', 'Troubleshooting']"
   ]
  },
  {
   "cell_type": "code",
   "execution_count": 61,
   "id": "e4425e97",
   "metadata": {},
   "outputs": [
    {
     "name": "stdout",
     "output_type": "stream",
     "text": [
      "{'name': 'Victor Keya', 'work': 'Engineer', 'skills': ['Python', 'Data', 'Troubleshooting']}\n"
     ]
    }
   ],
   "source": [
    "print(dict)"
   ]
  },
  {
   "cell_type": "code",
   "execution_count": 63,
   "id": "469bc3f3",
   "metadata": {},
   "outputs": [],
   "source": [
    "name = \"Miriam Muhonja\""
   ]
  },
  {
   "cell_type": "code",
   "execution_count": 64,
   "id": "1e16c4a2",
   "metadata": {},
   "outputs": [],
   "source": [
    "Age = 38"
   ]
  },
  {
   "cell_type": "code",
   "execution_count": 65,
   "id": "7bee7d1e",
   "metadata": {},
   "outputs": [],
   "source": [
    "occupation = \"Banker\""
   ]
  },
  {
   "cell_type": "code",
   "execution_count": 71,
   "id": "a80f63e0",
   "metadata": {},
   "outputs": [],
   "source": [
    "statement = \"My name is\" + \" \" +  f'{name}' + \" \" + \"i am \" + f'{Age}' + \" \" + \"years old.\" \"I am a\" + \" \" +  f'{occupation}' + \" \" + \"by proffession.\""
   ]
  },
  {
   "cell_type": "code",
   "execution_count": 72,
   "id": "8e5e1136",
   "metadata": {},
   "outputs": [
    {
     "name": "stdout",
     "output_type": "stream",
     "text": [
      "My name is Miriam Muhonja i am 38 years old.I am a Banker by proffession.\n"
     ]
    }
   ],
   "source": [
    "print(statement)"
   ]
  },
  {
   "cell_type": "code",
   "execution_count": null,
   "id": "e595064f",
   "metadata": {},
   "outputs": [],
   "source": [
    "#if else"
   ]
  },
  {
   "cell_type": "code",
   "execution_count": 77,
   "id": "5c2d4afa",
   "metadata": {},
   "outputs": [
    {
     "name": "stdout",
     "output_type": "stream",
     "text": [
      "a is less then b\n",
      "Nested if worked\n"
     ]
    }
   ],
   "source": [
    "a = 1\n",
    "b = 2\n",
    "c = 3\n",
    "d = 4\n",
    "if (a < b) or (c > d):\n",
    "    print(\"a is less then b\")\n",
    "    if a < d:\n",
    "        print(\"Nested if worked\")\n",
    "else:\n",
    "    print(\"a is not less than b\")"
   ]
  },
  {
   "cell_type": "code",
   "execution_count": null,
   "id": "cbe9811d",
   "metadata": {},
   "outputs": [],
   "source": []
  },
  {
   "cell_type": "code",
   "execution_count": null,
   "id": "1aaf1fdd",
   "metadata": {},
   "outputs": [],
   "source": []
  }
 ],
 "metadata": {
  "kernelspec": {
   "display_name": "Python 3 (ipykernel)",
   "language": "python",
   "name": "python3"
  },
  "language_info": {
   "codemirror_mode": {
    "name": "ipython",
    "version": 3
   },
   "file_extension": ".py",
   "mimetype": "text/x-python",
   "name": "python",
   "nbconvert_exporter": "python",
   "pygments_lexer": "ipython3",
   "version": "3.11.5"
  }
 },
 "nbformat": 4,
 "nbformat_minor": 5
}
